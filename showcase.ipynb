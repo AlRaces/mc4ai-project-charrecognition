{
 "cells": [
  {
   "cell_type": "code",
   "execution_count": null,
   "metadata": {},
   "outputs": [],
   "source": [
    "from PIL import Image\n",
    "import numpy as np \n",
    "labels = np.load(\"./labels.npy\")\n",
    "dataset = np.load(\"./np_dataset.npy\")\n",
    "names = np.load(\"./names.npy\")"
   ]
  },
  {
   "cell_type": "code",
   "execution_count": null,
   "metadata": {},
   "outputs": [],
   "source": [
    "from sklearn.model_selection import train_test_split\n",
    "X_train, X_test, y_train, y_test = train_test_split(dataset, labels, test_size=100)"
   ]
  },
  {
   "attachments": {},
   "cell_type": "markdown",
   "metadata": {},
   "source": [
    "##**SPLIT DATASET**"
   ]
  },
  {
   "cell_type": "code",
   "execution_count": null,
   "metadata": {},
   "outputs": [],
   "source": [
    "from tensorflow.keras.utils import to_categorical\n",
    "y_train_ohe = to_categorical(y_train, num_classes=62, dtype=int)\n",
    "y_test_ohe = to_categorical(y_test, num_classes=62, dtype=int)"
   ]
  },
  {
   "attachments": {},
   "cell_type": "markdown",
   "metadata": {},
   "source": [
    "##**VISUALIZE**"
   ]
  },
  {
   "cell_type": "code",
   "execution_count": null,
   "metadata": {},
   "outputs": [],
   "source": [
    "import matplotlib.pyplot as plt\n",
    "classes = [i for i in range(15)]\n",
    "fig, axs = plt.subplots(15, 2) # tạo hình vẽ gồm 10 dòng, mỗi dòng 10 số\n",
    "\n",
    "fig.set_figheight(3)\n",
    "fig.set_figwidth(2)\n",
    "\n",
    "for i in range(15): \n",
    "  for j in range(2): \n",
    "    target = np.random.choice(np.where(y_train == classes[i])[0])\n",
    "    axs[i][j].axis(\"off\")\n",
    "    axs[i][j].imshow(X_train[target].reshape(28, 28), cmap=\"gray\")"
   ]
  }
 ],
 "metadata": {
  "language_info": {
   "name": "python"
  },
  "orig_nbformat": 4
 },
 "nbformat": 4,
 "nbformat_minor": 2
}
